{
  "nbformat": 4,
  "nbformat_minor": 0,
  "metadata": {
    "colab": {
      "provenance": [],
      "authorship_tag": "ABX9TyM1RE6Rgnm46RArjXjotNJi",
      "include_colab_link": true
    },
    "kernelspec": {
      "name": "python3",
      "display_name": "Python 3"
    },
    "language_info": {
      "name": "python"
    }
  },
  "cells": [
    {
      "cell_type": "markdown",
      "metadata": {
        "id": "view-in-github",
        "colab_type": "text"
      },
      "source": [
        "<a href=\"https://colab.research.google.com/github/rishav197/SML-assignments-IIITD/blob/main/A2/SML_A2_A.ipynb\" target=\"_parent\"><img src=\"https://colab.research.google.com/assets/colab-badge.svg\" alt=\"Open In Colab\"/></a>"
      ]
    },
    {
      "cell_type": "code",
      "execution_count": null,
      "metadata": {
        "id": "UlB8ia61d6Ed"
      },
      "outputs": [],
      "source": [
        "#importing some important libraries\n",
        "from keras.datasets import mnist\n",
        "import numpy as np\n",
        "import pandas as pd"
      ]
    },
    {
      "cell_type": "code",
      "source": [
        "#data loaded in splitted manner\n",
        "(X_train, y_train), (X_test, y_test) = mnist.load_data()"
      ],
      "metadata": {
        "id": "FbdfbU5Xea3s",
        "colab": {
          "base_uri": "https://localhost:8080/"
        },
        "outputId": "23587da0-3534-4f69-9c3e-cbe4f833410c"
      },
      "execution_count": null,
      "outputs": [
        {
          "output_type": "stream",
          "name": "stdout",
          "text": [
            "Downloading data from https://storage.googleapis.com/tensorflow/tf-keras-datasets/mnist.npz\n",
            "11490434/11490434 [==============================] - 0s 0us/step\n"
          ]
        }
      ]
    },
    {
      "cell_type": "code",
      "source": [
        "print(X_train.shape, type(X_train))\n",
        "print(X_test.shape, type(X_test))"
      ],
      "metadata": {
        "colab": {
          "base_uri": "https://localhost:8080/"
        },
        "id": "1AOkdOOiea6u",
        "outputId": "0b1221f0-e939-4f69-df95-15202e0d1f01"
      },
      "execution_count": null,
      "outputs": [
        {
          "output_type": "stream",
          "name": "stdout",
          "text": [
            "(60000, 28, 28) <class 'numpy.ndarray'>\n",
            "(10000, 28, 28) <class 'numpy.ndarray'>\n"
          ]
        }
      ]
    },
    {
      "cell_type": "code",
      "source": [
        "# print(X_train)\n",
        "print(y_train[0], type(y_train[0]))"
      ],
      "metadata": {
        "colab": {
          "base_uri": "https://localhost:8080/"
        },
        "id": "DmUlKJnfea-T",
        "outputId": "79fe285b-dd9f-495b-ba06-1f3d46ed9c01"
      },
      "execution_count": null,
      "outputs": [
        {
          "output_type": "stream",
          "name": "stdout",
          "text": [
            "5 <class 'numpy.uint8'>\n"
          ]
        }
      ]
    },
    {
      "cell_type": "code",
      "source": [
        "y_train"
      ],
      "metadata": {
        "colab": {
          "base_uri": "https://localhost:8080/"
        },
        "id": "CpuuJkUJzPaE",
        "outputId": "595cfb47-f23f-4c8b-d837-529779aa8959"
      },
      "execution_count": null,
      "outputs": [
        {
          "output_type": "execute_result",
          "data": {
            "text/plain": [
              "array([5, 0, 4, ..., 5, 6, 8], dtype=uint8)"
            ]
          },
          "metadata": {},
          "execution_count": 5
        }
      ]
    },
    {
      "cell_type": "code",
      "source": [
        "# total 10 classes from 0 to 9\n",
        "np.unique(y_train)"
      ],
      "metadata": {
        "colab": {
          "base_uri": "https://localhost:8080/"
        },
        "id": "9V0NWLvt19Pn",
        "outputId": "95301100-4ee6-4c4c-dae7-f1b922deb031"
      },
      "execution_count": null,
      "outputs": [
        {
          "output_type": "execute_result",
          "data": {
            "text/plain": [
              "array([0, 1, 2, 3, 4, 5, 6, 7, 8, 9], dtype=uint8)"
            ]
          },
          "metadata": {},
          "execution_count": 6
        }
      ]
    },
    {
      "cell_type": "code",
      "source": [
        "# len(y_train)\n",
        "y_train[1]"
      ],
      "metadata": {
        "colab": {
          "base_uri": "https://localhost:8080/"
        },
        "id": "SRHgE_zQ5KE6",
        "outputId": "7e585d10-a175-4084-d368-23eec7adb517"
      },
      "execution_count": null,
      "outputs": [
        {
          "output_type": "execute_result",
          "data": {
            "text/plain": [
              "0"
            ]
          },
          "metadata": {},
          "execution_count": 7
        }
      ]
    },
    {
      "cell_type": "code",
      "source": [
        "class0_idxs = [] #list contains indices where the label is 0\n",
        "class1_idxs = [] #list contains indices where the label is 1\n",
        "\n",
        "for i in range(len(y_train)):\n",
        "  if(len(class0_idxs)>4):\n",
        "    break\n",
        "  else:\n",
        "    if(y_train[i]==0): #comparing for class 0\n",
        "      class0_idxs.append(i)\n",
        "\n",
        "for i in range(len(y_train)):\n",
        "  if(len(class1_idxs)>4):\n",
        "    break\n",
        "  else:\n",
        "    if(y_train[i]==1): #comparing for class 1\n",
        "      class1_idxs.append(i)\n",
        "\n",
        "print(class0_idxs)\n",
        "print(class1_idxs)"
      ],
      "metadata": {
        "colab": {
          "base_uri": "https://localhost:8080/"
        },
        "id": "sEUtgZ-yzPWh",
        "outputId": "34273a66-0f58-45c2-8938-314893cdf2a6"
      },
      "execution_count": null,
      "outputs": [
        {
          "output_type": "stream",
          "name": "stdout",
          "text": [
            "[1, 21, 34, 37, 51]\n",
            "[3, 6, 8, 14, 23]\n"
          ]
        }
      ]
    },
    {
      "cell_type": "markdown",
      "source": [
        "##Part a) visualization of 5 samples from class 0 and class 1"
      ],
      "metadata": {
        "id": "qXQqVlPoDByv"
      }
    },
    {
      "cell_type": "code",
      "source": [
        "import matplotlib.pyplot as plt"
      ],
      "metadata": {
        "id": "2nG0X5T89-pz"
      },
      "execution_count": null,
      "outputs": []
    },
    {
      "cell_type": "code",
      "source": [
        "for idx in class0_idxs:\n",
        "  plt.imshow(X_train[idx], cmap=plt.get_cmap('gray'))\n",
        "  plt.show()"
      ],
      "metadata": {
        "id": "YJhZaCdgzPT0",
        "colab": {
          "base_uri": "https://localhost:8080/",
          "height": 1000
        },
        "outputId": "cbefdf5a-6bd7-4923-f6d6-f37ed6e2e45f"
      },
      "execution_count": null,
      "outputs": [
        {
          "output_type": "display_data",
          "data": {
            "text/plain": [
              "<Figure size 432x288 with 1 Axes>"
            ],
            "image/png": "[encoded data removed]"
          },
          "metadata": {
            "needs_background": "light"
          }
        },
        {
          "output_type": "display_data",
          "data": {
            "text/plain": [
              "<Figure size 432x288 with 1 Axes>"
            ],
            "image/png": "[encoded data removed]"
          },
          "metadata": {
            "needs_background": "light"
          }
        },
        {
          "output_type": "display_data",
          "data": {
            "text/plain": [
              "<Figure size 432x288 with 1 Axes>"
            ],
            "image/png": "[encoded data removed]"
          },
          "metadata": {
            "needs_background": "light"
          }
        },
        {
          "output_type": "display_data",
          "data": {
            "text/plain": [
              "<Figure size 432x288 with 1 Axes>"
            ],
            "image/png": "[encoded data removed]"
          },
          "metadata": {
            "needs_background": "light"
          }
        },
        {
          "output_type": "display_data",
          "data": {
            "text/plain": [
              "<Figure size 432x288 with 1 Axes>"
            ],
            "image/png": "[encoded data removed]"
          },
          "metadata": {
            "needs_background": "light"
          }
        }
      ]
    },
    {
      "cell_type": "code",
      "source": [
        "for idx in class1_idxs:\n",
        "  plt.imshow(X_train[idx], cmap=plt.get_cmap('gray'))\n",
        "  plt.show()"
      ],
      "metadata": {
        "colab": {
          "base_uri": "https://localhost:8080/",
          "height": 1000
        },
        "id": "Pfg0ABiJ_jcu",
        "outputId": "af873a67-ca54-405a-c1f8-ead1dfff147c"
      },
      "execution_count": null,
      "outputs": [
        {
          "output_type": "display_data",
          "data": {
            "text/plain": [
              "<Figure size 432x288 with 1 Axes>"
            ],
            "image/png": "[encoded data removed]"
          },
          "metadata": {
            "needs_background": "light"
          }
        },
        {
          "output_type": "display_data",
          "data": {
            "text/plain": [
              "<Figure size 432x288 with 1 Axes>"
            ],
            "image/png": "[encoded data removed]"
          },
          "metadata": {
            "needs_background": "light"
          }
        },
        {
          "output_type": "display_data",
          "data": {
            "text/plain": [
              "<Figure size 432x288 with 1 Axes>"
            ],
            "image/png": "[encoded data removed]"
          },
          "metadata": {
            "needs_background": "light"
          }
        },
        {
          "output_type": "display_data",
          "data": {
            "text/plain": [
              "<Figure size 432x288 with 1 Axes>"
            ],
            "image/png": "[encoded data removed]"
          },
          "metadata": {
            "needs_background": "light"
          }
        },
        {
          "output_type": "display_data",
          "data": {
            "text/plain": [
              "<Figure size 432x288 with 1 Axes>"
            ],
            "image/png": "[encoded data removed]"
          },
          "metadata": {
            "needs_background": "light"
          }
        }
      ]
    },
    {
      "cell_type": "markdown",
      "source": [
        "##Part b)"
      ],
      "metadata": {
        "id": "2j2D75Zqm6RD"
      }
    },
    {
      "cell_type": "code",
      "source": [
        "X_train.shape"
      ],
      "metadata": {
        "colab": {
          "base_uri": "https://localhost:8080/"
        },
        "id": "FNKUMQzysLno",
        "outputId": "97016b28-e7f6-420c-83ae-460ff9c9a8ae"
      },
      "execution_count": null,
      "outputs": [
        {
          "output_type": "execute_result",
          "data": {
            "text/plain": [
              "(60000, 28, 28)"
            ]
          },
          "metadata": {},
          "execution_count": 12
        }
      ]
    },
    {
      "cell_type": "code",
      "source": [
        "# X_train[0]"
      ],
      "metadata": {
        "id": "w65KCoUKsmp4"
      },
      "execution_count": null,
      "outputs": []
    },
    {
      "cell_type": "code",
      "source": [
        "len(X_train)"
      ],
      "metadata": {
        "colab": {
          "base_uri": "https://localhost:8080/"
        },
        "id": "WSGjWOgerGqo",
        "outputId": "10e55cbd-4b88-4eb9-aa32-7e7f4deb9d63"
      },
      "execution_count": null,
      "outputs": [
        {
          "output_type": "execute_result",
          "data": {
            "text/plain": [
              "60000"
            ]
          },
          "metadata": {},
          "execution_count": 14
        }
      ]
    },
    {
      "cell_type": "code",
      "source": [
        "# Function for removing samples other than of class 0, 1\n",
        "\n",
        "def getData(X_train, y_train):\n",
        "  # pass\n",
        "  class0_idxs = []\n",
        "  class1_idxs = []\n",
        "\n",
        "  for i in range(len(y_train)):\n",
        "    if(y_train[i]==0): #comparing for class 0\n",
        "      class0_idxs.append(i)\n",
        "\n",
        "  for i in range(len(y_train)):\n",
        "    if(y_train[i]==1): #comparing for class 1\n",
        "      class1_idxs.append(i)\n",
        "\n",
        "  # print(len(class0_idxs), class0_idxs)\n",
        "  # print(len(class1_idxs), class1_idxs)\n",
        "\n",
        "  class01_idxs = class0_idxs + class1_idxs\n",
        "  class01_idxs.sort()\n",
        "  # print(len(class01_idxs), class01_idxs)\n",
        "\n",
        "\n",
        "  X_train_new = [] \n",
        "  y_train_new = []\n",
        "  for idx in class01_idxs:\n",
        "    # print(i, end=\" \")\n",
        "    X_train_new.append(X_train[idx])\n",
        "    y_train_new.append(y_train[idx])\n",
        "\n",
        "  X_train_new = np.asarray(X_train_new, dtype='uint8')\n",
        "  y_train_new = np.asarray(y_train_new, dtype='uint8')\n",
        "  \n",
        "  return X_train_new, y_train_new"
      ],
      "metadata": {
        "id": "PcPFKr1MFoZa"
      },
      "execution_count": null,
      "outputs": []
    },
    {
      "cell_type": "markdown",
      "source": [
        "X_train_new and y_train_new"
      ],
      "metadata": {
        "id": "pmPcouI6XcG_"
      }
    },
    {
      "cell_type": "code",
      "source": [
        "# we get train data having only class 0 and 1 labels\n",
        "X_train_new, y_train_new = getData(X_train, y_train)\n",
        "# print(len(y_train_new), y_train_new)\n",
        "# print(len(X_train_new), X_train_new)\n",
        "\n",
        "# plt.imshow(X_train_new[12665-1], cmap=plt.get_cmap('gray'))\n",
        "# plt.show()\n",
        "\n",
        "#flatten each image into 784 features\n",
        "size_img_vector = 28*28\n",
        "X_train_new = X_train_new.reshape(X_train_new.shape[0], size_img_vector)\n",
        "\n",
        "# pd.DataFrame(X_train_new)"
      ],
      "metadata": {
        "id": "elQEbS6iIun5"
      },
      "execution_count": null,
      "outputs": []
    },
    {
      "cell_type": "code",
      "source": [
        "X_train_new.shape"
      ],
      "metadata": {
        "colab": {
          "base_uri": "https://localhost:8080/"
        },
        "id": "W4ZNScCHTHXv",
        "outputId": "d2c8ecbb-a493-40a3-90ca-a72a90117f9f"
      },
      "execution_count": null,
      "outputs": [
        {
          "output_type": "execute_result",
          "data": {
            "text/plain": [
              "(12665, 784)"
            ]
          },
          "metadata": {},
          "execution_count": 17
        }
      ]
    },
    {
      "cell_type": "code",
      "source": [
        "y_train_new"
      ],
      "metadata": {
        "colab": {
          "base_uri": "https://localhost:8080/"
        },
        "id": "am6QqWbfS1aw",
        "outputId": "211c10f7-6b70-4df6-ca57-ad0e4f83b43e"
      },
      "execution_count": null,
      "outputs": [
        {
          "output_type": "execute_result",
          "data": {
            "text/plain": [
              "array([0, 1, 1, ..., 1, 0, 1], dtype=uint8)"
            ]
          },
          "metadata": {},
          "execution_count": 18
        }
      ]
    },
    {
      "cell_type": "markdown",
      "source": [
        "X_test_new and y_test_new"
      ],
      "metadata": {
        "id": "sM71-fYtTfj7"
      }
    },
    {
      "cell_type": "code",
      "source": [
        "# we get test data having only class 0 and 1 labels\n",
        "X_test_new, y_test_new = getData(X_test, y_test)\n",
        "# print(len(y_test_new), y_test_new)\n",
        "# print(len(X_test_new), X_test_new)\n",
        "print(X_test_new.shape)\n",
        "\n",
        "# plt.imshow(X_test_new[2115-1], cmap=plt.get_cmap('gray'))\n",
        "# plt.show()\n",
        "\n",
        "#flatten images into 784 features as input data\n",
        "size_img_vector = 28*28\n",
        "X_test_new = X_test_new.reshape(X_test_new.shape[0], size_img_vector)\n",
        "\n",
        "# pd.DataFrame(X_test_new)"
      ],
      "metadata": {
        "colab": {
          "base_uri": "https://localhost:8080/"
        },
        "id": "YLfrTgnbK3_G",
        "outputId": "2de9abd9-1722-447e-c275-34908530bee0"
      },
      "execution_count": null,
      "outputs": [
        {
          "output_type": "stream",
          "name": "stdout",
          "text": [
            "(2115, 28, 28)\n"
          ]
        }
      ]
    },
    {
      "cell_type": "code",
      "source": [
        "X_test_new.shape"
      ],
      "metadata": {
        "colab": {
          "base_uri": "https://localhost:8080/"
        },
        "id": "SxocglWhUO5q",
        "outputId": "29d6019a-68b6-4370-e044-159bd1050df9"
      },
      "execution_count": null,
      "outputs": [
        {
          "output_type": "execute_result",
          "data": {
            "text/plain": [
              "(2115, 784)"
            ]
          },
          "metadata": {},
          "execution_count": 20
        }
      ]
    },
    {
      "cell_type": "code",
      "source": [
        "y_test_new"
      ],
      "metadata": {
        "colab": {
          "base_uri": "https://localhost:8080/"
        },
        "id": "OF_pKy8wURm4",
        "outputId": "946cf0a3-988b-445d-94f5-ffd6b370c493"
      },
      "execution_count": null,
      "outputs": [
        {
          "output_type": "execute_result",
          "data": {
            "text/plain": [
              "array([1, 0, 1, ..., 1, 0, 1], dtype=uint8)"
            ]
          },
          "metadata": {},
          "execution_count": 21
        }
      ]
    },
    {
      "cell_type": "code",
      "source": [
        "import numpy as np"
      ],
      "metadata": {
        "id": "piFxo2z9BJfX"
      },
      "execution_count": null,
      "outputs": []
    },
    {
      "cell_type": "code",
      "source": [
        "def PCA(X, num_Of_Components):\n",
        "  #calculating mean across all featurs of X\n",
        "  X_mean = X - np.mean(X, axis=0)\n",
        "  # print(X.shape)\n",
        "\n",
        "  #calculating Covariance matrix \n",
        "  cov_matx = np.cov(X_mean, rowvar=False)\n",
        "  # print(cov_matx.shape)\n",
        "\n",
        "  eigen_vals, eigen_vects = np.linalg.eigh(cov_matx)\n",
        "  # print(eigen_vects.shape)\n",
        "  # print(eigen_vals.shape)\n",
        "  # print(eigen_vals, len(eigen_vals))\n",
        "\n",
        "  sorted_idxs = np.argsort(eigen_vals)[::-1]\n",
        "  # print(sorted_idxs)\n",
        "  sorted_eigenVals = eigen_vals[sorted_idxs]\n",
        "  # print(sorted_eigenVals)\n",
        "  sorted_eigenVectors = eigen_vects[:,sorted_idxs]\n",
        "  # print(sorted_eigenVectors)\n",
        "\n",
        "  #Now, we get a subset of selected eigen vectors\n",
        "  eigenVects_subset = sorted_eigenVectors[:,0:num_Of_Components]\n",
        "  # print(eigenVects_subset.shape)\n",
        "\n",
        "  # reducing data with given num of components\n",
        "  X_new = np.dot(eigenVects_subset.transpose(), X_mean.transpose()).transpose()\n",
        "  # print(X_new.shape)\n",
        "\n",
        "  return X_new, eigen_vects\n"
      ],
      "metadata": {
        "id": "b8idQoR4qlfa"
      },
      "execution_count": null,
      "outputs": []
    },
    {
      "cell_type": "markdown",
      "source": [
        "##Part c)"
      ],
      "metadata": {
        "id": "qKX8BxmTL-mj"
      }
    },
    {
      "cell_type": "code",
      "source": [
        "import matplotlib.pyplot as plt"
      ],
      "metadata": {
        "id": "rj9WTkdBw0iI"
      },
      "execution_count": null,
      "outputs": []
    },
    {
      "cell_type": "code",
      "source": [
        "import pandas as pd"
      ],
      "metadata": {
        "id": "X_kWOoVXx5IJ"
      },
      "execution_count": null,
      "outputs": []
    },
    {
      "cell_type": "code",
      "source": [
        "n = 2 #no. of components\n",
        "X_train_red, _ = PCA(X_train_new, n)\n",
        "print(X_train_red.shape)\n",
        "\n",
        "\n",
        "# print(len(X_train_red[:,0]), X_train_red[:,0])\n",
        "\n",
        "plt.scatter(X_train_red[:,0], X_train_red[:,1], c=y_train_new)\n",
        "plt.show()\n",
        "\n",
        "\n",
        "n = 3 #no of components\n",
        "X_train_red, _ = PCA(X_train_new, n)\n",
        "print(X_train_red.shape)\n",
        "\n",
        "plt.scatter(X_train_red[:,0], X_train_red[:,1], X_train_red[:,2], c=y_train_new)\n",
        "plt.show()"
      ],
      "metadata": {
        "colab": {
          "base_uri": "https://localhost:8080/",
          "height": 585
        },
        "id": "dxrzUdhywBhc",
        "outputId": "6741a7cb-0b96-454a-c964-4ce247f3f605"
      },
      "execution_count": null,
      "outputs": [
        {
          "output_type": "stream",
          "name": "stdout",
          "text": [
            "(12665, 2)\n"
          ]
        },
        {
          "output_type": "display_data",
          "data": {
            "text/plain": [
              "<Figure size 432x288 with 1 Axes>"
            ],
            "image/png": "[encoded data removed]"
          },
          "metadata": {
            "needs_background": "light"
          }
        },
        {
          "output_type": "stream",
          "name": "stdout",
          "text": [
            "(12665, 3)\n"
          ]
        },
        {
          "output_type": "stream",
          "name": "stderr",
          "text": [
            "/usr/local/lib/python3.9/dist-packages/matplotlib/collections.py:963: RuntimeWarning: invalid value encountered in sqrt\n",
            "  scale = np.sqrt(self._sizes) * dpi / 72.0 * self._factor\n"
          ]
        },
        {
          "output_type": "display_data",
          "data": {
            "text/plain": [
              "<Figure size 432x288 with 1 Axes>"
            ],
            "image/png": "[encoded data removed]"
          },
          "metadata": {
            "needs_background": "light"
          }
        }
      ]
    },
    {
      "cell_type": "code",
      "source": [
        "pd.DataFrame(X_train_red)"
      ],
      "metadata": {
        "colab": {
          "base_uri": "https://localhost:8080/",
          "height": 423
        },
        "id": "Jgner-ZIyr2T",
        "outputId": "6f0de3e6-ef81-4643-877d-65b73e65f178"
      },
      "execution_count": null,
      "outputs": [
        {
          "output_type": "execute_result",
          "data": {
            "text/plain": [
              "                 0           1           2\n",
              "0     -1119.663388  321.497910 -402.411416\n",
              "1       883.615892  907.386295  622.503551\n",
              "2       798.393094 -842.909712 -484.062797\n",
              "3       863.614849 -752.822365 -363.947142\n",
              "4       898.965176 -706.871855 -275.507597\n",
              "...            ...         ...         ...\n",
              "12660  -807.485744  719.262248 -978.667043\n",
              "12661   923.824668  573.430566  554.928473\n",
              "12662   726.574010  652.364352  528.079711\n",
              "12663  -816.368589  679.558542 -625.934840\n",
              "12664   821.887254  356.096385  491.304484\n",
              "\n",
              "[12665 rows x 3 columns]"
            ],
            "text/html": [
              "\n",
              "  <div id=\"df-529b8247-7126-4d0e-b541-b759ebfe1a2d\">\n",
              "    <div class=\"colab-df-container\">\n",
              "      <div>\n",
              "<style scoped>\n",
              "    .dataframe tbody tr th:only-of-type {\n",
              "        vertical-align: middle;\n",
              "    }\n",
              "\n",
              "    .dataframe tbody tr th {\n",
              "        vertical-align: top;\n",
              "    }\n",
              "\n",
              "    .dataframe thead th {\n",
              "        text-align: right;\n",
              "    }\n",
              "</style>\n",
              "<table border=\"1\" class=\"dataframe\">\n",
              "  <thead>\n",
              "    <tr style=\"text-align: right;\">\n",
              "      <th></th>\n",
              "      <th>0</th>\n",
              "      <th>1</th>\n",
              "      <th>2</th>\n",
              "    </tr>\n",
              "  </thead>\n",
              "  <tbody>\n",
              "    <tr>\n",
              "      <th>0</th>\n",
              "      <td>-1119.663388</td>\n",
              "      <td>321.497910</td>\n",
              "      <td>-402.411416</td>\n",
              "    </tr>\n",
              "    <tr>\n",
              "      <th>1</th>\n",
              "      <td>883.615892</td>\n",
              "      <td>907.386295</td>\n",
              "      <td>622.503551</td>\n",
              "    </tr>\n",
              "    <tr>\n",
              "      <th>2</th>\n",
              "      <td>798.393094</td>\n",
              "      <td>-842.909712</td>\n",
              "      <td>-484.062797</td>\n",
              "    </tr>\n",
              "    <tr>\n",
              "      <th>3</th>\n",
              "      <td>863.614849</td>\n",
              "      <td>-752.822365</td>\n",
              "      <td>-363.947142</td>\n",
              "    </tr>\n",
              "    <tr>\n",
              "      <th>4</th>\n",
              "      <td>898.965176</td>\n",
              "      <td>-706.871855</td>\n",
              "      <td>-275.507597</td>\n",
              "    </tr>\n",
              "    <tr>\n",
              "      <th>...</th>\n",
              "      <td>...</td>\n",
              "      <td>...</td>\n",
              "      <td>...</td>\n",
              "    </tr>\n",
              "    <tr>\n",
              "      <th>12660</th>\n",
              "      <td>-807.485744</td>\n",
              "      <td>719.262248</td>\n",
              "      <td>-978.667043</td>\n",
              "    </tr>\n",
              "    <tr>\n",
              "      <th>12661</th>\n",
              "      <td>923.824668</td>\n",
              "      <td>573.430566</td>\n",
              "      <td>554.928473</td>\n",
              "    </tr>\n",
              "    <tr>\n",
              "      <th>12662</th>\n",
              "      <td>726.574010</td>\n",
              "      <td>652.364352</td>\n",
              "      <td>528.079711</td>\n",
              "    </tr>\n",
              "    <tr>\n",
              "      <th>12663</th>\n",
              "      <td>-816.368589</td>\n",
              "      <td>679.558542</td>\n",
              "      <td>-625.934840</td>\n",
              "    </tr>\n",
              "    <tr>\n",
              "      <th>12664</th>\n",
              "      <td>821.887254</td>\n",
              "      <td>356.096385</td>\n",
              "      <td>491.304484</td>\n",
              "    </tr>\n",
              "  </tbody>\n",
              "</table>\n",
              "<p>12665 rows × 3 columns</p>\n",
              "</div>\n",
              "      <button class=\"colab-df-convert\" onclick=\"convertToInteractive('df-529b8247-7126-4d0e-b541-b759ebfe1a2d')\"\n",
              "              title=\"Convert this dataframe to an interactive table.\"\n",
              "              style=\"display:none;\">\n",
              "        \n",
              "  <svg xmlns=\"http://www.w3.org/2000/svg\" height=\"24px\"viewBox=\"0 0 24 24\"\n",
              "       width=\"24px\">\n",
              "    <path d=\"M0 0h24v24H0V0z\" fill=\"none\"/>\n",
              "    <path d=\"M18.56 5.44l.94 2.06.94-2.06 2.06-.94-2.06-.94-.94-2.06-.94 2.06-2.06.94zm-11 1L8.5 8.5l.94-2.06 2.06-.94-2.06-.94L8.5 2.5l-.94 2.06-2.06.94zm10 10l.94 2.06.94-2.06 2.06-.94-2.06-.94-.94-2.06-.94 2.06-2.06.94z\"/><path d=\"M17.41 7.96l-1.37-1.37c-.4-.4-.92-.59-1.43-.59-.52 0-1.04.2-1.43.59L10.3 9.45l-7.72 7.72c-.78.78-.78 2.05 0 2.83L4 21.41c.39.39.9.59 1.41.59.51 0 1.02-.2 1.41-.59l7.78-7.78 2.81-2.81c.8-.78.8-2.07 0-2.86zM5.41 20L4 18.59l7.72-7.72 1.47 1.35L5.41 20z\"/>\n",
              "  </svg>\n",
              "      </button>\n",
              "      \n",
              "  <style>\n",
              "    .colab-df-container {\n",
              "      display:flex;\n",
              "      flex-wrap:wrap;\n",
              "      gap: 12px;\n",
              "    }\n",
              "\n",
              "    .colab-df-convert {\n",
              "      background-color: #E8F0FE;\n",
              "      border: none;\n",
              "      border-radius: 50%;\n",
              "      cursor: pointer;\n",
              "      display: none;\n",
              "      fill: #1967D2;\n",
              "      height: 32px;\n",
              "      padding: 0 0 0 0;\n",
              "      width: 32px;\n",
              "    }\n",
              "\n",
              "    .colab-df-convert:hover {\n",
              "      background-color: #E2EBFA;\n",
              "      box-shadow: 0px 1px 2px rgba(60, 64, 67, 0.3), 0px 1px 3px 1px rgba(60, 64, 67, 0.15);\n",
              "      fill: #174EA6;\n",
              "    }\n",
              "\n",
              "    [theme=dark] .colab-df-convert {\n",
              "      background-color: #3B4455;\n",
              "      fill: #D2E3FC;\n",
              "    }\n",
              "\n",
              "    [theme=dark] .colab-df-convert:hover {\n",
              "      background-color: #434B5C;\n",
              "      box-shadow: 0px 1px 3px 1px rgba(0, 0, 0, 0.15);\n",
              "      filter: drop-shadow(0px 1px 2px rgba(0, 0, 0, 0.3));\n",
              "      fill: #FFFFFF;\n",
              "    }\n",
              "  </style>\n",
              "\n",
              "      <script>\n",
              "        const buttonEl =\n",
              "          document.querySelector('#df-529b8247-7126-4d0e-b541-b759ebfe1a2d button.colab-df-convert');\n",
              "        buttonEl.style.display =\n",
              "          google.colab.kernel.accessAllowed ? 'block' : 'none';\n",
              "\n",
              "        async function convertToInteractive(key) {\n",
              "          const element = document.querySelector('#df-529b8247-7126-4d0e-b541-b759ebfe1a2d');\n",
              "          const dataTable =\n",
              "            await google.colab.kernel.invokeFunction('convertToInteractive',\n",
              "                                                     [key], {});\n",
              "          if (!dataTable) return;\n",
              "\n",
              "          const docLinkHtml = 'Like what you see? Visit the ' +\n",
              "            '<a target=\"_blank\" href=https://colab.research.google.com/notebooks/data_table.ipynb>data table notebook</a>'\n",
              "            + ' to learn more about interactive tables.';\n",
              "          element.innerHTML = '';\n",
              "          dataTable['output_type'] = 'display_data';\n",
              "          await google.colab.output.renderOutput(dataTable, element);\n",
              "          const docLink = document.createElement('div');\n",
              "          docLink.innerHTML = docLinkHtml;\n",
              "          element.appendChild(docLink);\n",
              "        }\n",
              "      </script>\n",
              "    </div>\n",
              "  </div>\n",
              "  "
            ]
          },
          "metadata": {},
          "execution_count": 27
        }
      ]
    },
    {
      "cell_type": "markdown",
      "source": [
        "##Part d)"
      ],
      "metadata": {
        "id": "C2_DcnYeM_U9"
      }
    },
    {
      "cell_type": "markdown",
      "source": [
        "Reconstructing the original data"
      ],
      "metadata": {
        "id": "8vWIA93XQvom"
      }
    },
    {
      "cell_type": "code",
      "source": [
        "def reconstruction(X_train_new, V):\n",
        "\n",
        "  X_train_new_mean = X_train_new - np.mean(X_train_new, axis=0)\n",
        "  # print(X_train_new_mean.shape)\n",
        "\n",
        "  recons_X = np.dot(X_train_new, V.transpose()) + X_train_new_mean\n",
        "  return recons_X"
      ],
      "metadata": {
        "id": "gLnHW0h_RbGK"
      },
      "execution_count": null,
      "outputs": []
    },
    {
      "cell_type": "code",
      "source": [
        "import math"
      ],
      "metadata": {
        "id": "oUC7Ho9oY9yy"
      },
      "execution_count": null,
      "outputs": []
    },
    {
      "cell_type": "code",
      "source": [
        "lst_components = [2, 3, 5, 8, 10, 15]\n",
        "\n",
        "\n",
        "loss_arr = []\n",
        "for i in range(len(lst_components)):\n",
        "  # print(lst_components[i])\n",
        "  _, eigen_vects = PCA(X_train_new, lst_components[i])\n",
        "  # print(X_reduced.shape)\n",
        "\n",
        "  reconst_data = reconstruction(X_train_new, eigen_vects)\n",
        "  # print(reconst_data.shape)\n",
        "\n",
        "  orignal_data = X_train_new\n",
        "  # print(orignal_data.shape)\n",
        "\n",
        "  loss = np.sum((orignal_data - reconst_data) ** 2, axis=1).mean()\n",
        "  loss_arr.append(math.floor(loss))\n",
        "\n",
        "print(len(loss_arr), loss_arr)"
      ],
      "metadata": {
        "colab": {
          "base_uri": "https://localhost:8080/"
        },
        "id": "KZWN9ffnPpIN",
        "outputId": "9ece43e6-edfb-435b-f7a7-35866fbdc105"
      },
      "execution_count": null,
      "outputs": [
        {
          "output_type": "stream",
          "name": "stdout",
          "text": [
            "6 [7530528, 7530528, 7530528, 7530528, 7530528, 7530528]\n"
          ]
        }
      ]
    },
    {
      "cell_type": "code",
      "source": [
        "import matplotlib.pyplot as plt"
      ],
      "metadata": {
        "id": "8RYk4J-0W1-k"
      },
      "execution_count": null,
      "outputs": []
    },
    {
      "cell_type": "code",
      "source": [
        "plt.plot(lst_components, loss_arr)\n",
        "plt.scatter(lst_components, loss_arr)\n",
        "plt.title(\"Plot: reconstruction_error vs n\")\n",
        "plt.ylabel(\"reconstruction_error\")   \n",
        "plt.xlabel(\"n\")\n",
        "plt.show()"
      ],
      "metadata": {
        "colab": {
          "base_uri": "https://localhost:8080/",
          "height": 295
        },
        "id": "P0lRXcvNWrlq",
        "outputId": "fa2f5ca2-3da5-42a7-83c1-b6a086dd8a00"
      },
      "execution_count": null,
      "outputs": [
        {
          "output_type": "display_data",
          "data": {
            "text/plain": [
              "<Figure size 432x288 with 1 Axes>"
            ],
            "image/png": "[encoded data removed]"
          },
          "metadata": {
            "needs_background": "light"
          }
        }
      ]
    },
    {
      "cell_type": "markdown",
      "source": [
        "##Part e)"
      ],
      "metadata": {
        "id": "5rsh0foaSiEd"
      }
    },
    {
      "cell_type": "markdown",
      "source": [
        "PCA followed by LDA"
      ],
      "metadata": {
        "id": "eDuN1A5mSnf1"
      }
    },
    {
      "cell_type": "markdown",
      "source": [
        "n = 2"
      ],
      "metadata": {
        "id": "_xrIpX7QojcK"
      }
    },
    {
      "cell_type": "code",
      "source": [
        "n = lst_components[0]\n",
        "print(\"n = {}\".format(n))\n",
        "\n",
        "#applying PCA for n=2\n",
        "X_train_reduced,_ = PCA(X_train_new, n)\n",
        "# print(X_train_reduced.shape)\n",
        "\n",
        "X_test_reduced,_ = PCA(X_test_new, n)\n",
        "# print(X_test_reduced.shape)\n",
        "\n",
        "# applying standard scaling \n",
        "from sklearn.preprocessing import StandardScaler\n",
        "sc = StandardScaler()\n",
        "X_train = sc.fit_transform(X_train_reduced)\n",
        "X_test = sc.transform(X_test_reduced)\n",
        "\n",
        "# applying LDA \n",
        "from sklearn.discriminant_analysis import LinearDiscriminantAnalysis as LDA\n",
        "lda = LDA()\n",
        "X_train = lda.fit_transform(X_train, y_train_new)\n",
        "X_test = lda.transform(X_test)\n",
        "\n",
        "# now, we took logistic regression model in order to calculate accuracy \n",
        "from sklearn.linear_model import LogisticRegression\n",
        "\n",
        "lr = LogisticRegression()\n",
        "lr.fit(X_train, y_train_new)\n",
        "y_pred = lr.predict(X_test)\n",
        "# print(y_pred.shape)\n",
        "# print(y_test_new.shape)\n",
        "\n",
        "# calculating accuracy\n",
        "from sklearn.metrics import accuracy_score\n",
        "print(\"accuracy = {}\".format(accuracy_score(y_test_new, y_pred)))"
      ],
      "metadata": {
        "colab": {
          "base_uri": "https://localhost:8080/"
        },
        "id": "tbj5XY-pb-4X",
        "outputId": "efd3f654-2ead-45dc-e38b-39ad83cbff81"
      },
      "execution_count": null,
      "outputs": [
        {
          "output_type": "stream",
          "name": "stdout",
          "text": [
            "n = 2\n",
            "accuracy = 0.9966903073286052\n"
          ]
        }
      ]
    },
    {
      "cell_type": "markdown",
      "source": [
        "n = 3"
      ],
      "metadata": {
        "id": "PFD6SKq2pjnq"
      }
    },
    {
      "cell_type": "code",
      "source": [
        "n = lst_components[1]\n",
        "print(\"n = {}\".format(n))\n",
        "\n",
        "#applying PCA for n=3\n",
        "X_train_reduced,_ = PCA(X_train_new, n)\n",
        "# print(X_train_reduced.shape)\n",
        "\n",
        "X_test_reduced,_ = PCA(X_test_new, n)\n",
        "# print(X_test_reduced.shape)\n",
        "\n",
        "# applying Std scaling\n",
        "from sklearn.preprocessing import StandardScaler\n",
        "sc = StandardScaler()\n",
        "X_train = sc.fit_transform(X_train_reduced)\n",
        "X_test = sc.transform(X_test_reduced)\n",
        "\n",
        "# applying LDA \n",
        "from sklearn.discriminant_analysis import LinearDiscriminantAnalysis as LDA\n",
        "lda = LDA()\n",
        "X_train = lda.fit_transform(X_train, y_train_new)\n",
        "X_test = lda.transform(X_test)\n",
        "\n",
        "# now, we took logistic regression model in order to calculate accuracy \n",
        "from sklearn.linear_model import LogisticRegression\n",
        "\n",
        "lr = LogisticRegression()\n",
        "lr.fit(X_train, y_train_new)\n",
        "y_pred = lr.predict(X_test)\n",
        "# print(y_pred.shape)\n",
        "# print(y_test_new.shape)\n",
        "\n",
        "# calculating accuracy\n",
        "from sklearn.metrics import accuracy_score\n",
        "print(\"accuracy = {}\".format(accuracy_score(y_test_new, y_pred)))"
      ],
      "metadata": {
        "colab": {
          "base_uri": "https://localhost:8080/"
        },
        "id": "kOSgonDlazGv",
        "outputId": "e8783f88-c126-4fc7-dd36-c74a73223baa"
      },
      "execution_count": null,
      "outputs": [
        {
          "output_type": "stream",
          "name": "stdout",
          "text": [
            "n = 3\n",
            "accuracy = 0.9971631205673759\n"
          ]
        }
      ]
    },
    {
      "cell_type": "markdown",
      "source": [
        "n = 5"
      ],
      "metadata": {
        "id": "-uKI56_dpgam"
      }
    },
    {
      "cell_type": "code",
      "source": [
        "n = lst_components[2]\n",
        "print(\"n = {}\".format(n))\n",
        "\n",
        "X_train_reduced,_ = PCA(X_train_new, n)\n",
        "# print(X_train_reduced.shape)\n",
        "\n",
        "X_test_reduced,_ = PCA(X_test_new, n)\n",
        "# print(X_test_reduced.shape)\n",
        "\n",
        "\n",
        "from sklearn.preprocessing import StandardScaler\n",
        "sc = StandardScaler()\n",
        "X_train = sc.fit_transform(X_train_reduced)\n",
        "X_test = sc.transform(X_test_reduced)\n",
        "\n",
        "\n",
        "from sklearn.discriminant_analysis import LinearDiscriminantAnalysis as LDA\n",
        "lda = LDA()\n",
        "X_train = lda.fit_transform(X_train, y_train_new)\n",
        "X_test = lda.transform(X_test)\n",
        "\n",
        "\n",
        "from sklearn.linear_model import LogisticRegression\n",
        "\n",
        "lr = LogisticRegression()\n",
        "lr.fit(X_train, y_train_new)\n",
        "y_pred = lr.predict(X_test)\n",
        "# print(y_pred.shape)\n",
        "# print(y_test_new.shape)\n",
        "\n",
        "\n",
        "from sklearn.metrics import accuracy_score\n",
        "print(\"accuracy = {}\".format(accuracy_score(y_test_new, y_pred)))"
      ],
      "metadata": {
        "colab": {
          "base_uri": "https://localhost:8080/"
        },
        "id": "dbneLKIzpKgj",
        "outputId": "4b3fdae5-593d-4121-fb9d-fb7bbdc48649"
      },
      "execution_count": null,
      "outputs": [
        {
          "output_type": "stream",
          "name": "stdout",
          "text": [
            "n = 5\n",
            "accuracy = 0.9957446808510638\n"
          ]
        }
      ]
    },
    {
      "cell_type": "markdown",
      "source": [
        "n = 8"
      ],
      "metadata": {
        "id": "w1YuQjUdpb4l"
      }
    },
    {
      "cell_type": "code",
      "source": [
        "n = lst_components[3]\n",
        "print(\"n = {}\".format(n))\n",
        "\n",
        "X_train_reduced,_ = PCA(X_train_new, n)\n",
        "# print(X_train_reduced.shape)\n",
        "\n",
        "X_test_reduced,_ = PCA(X_test_new, n)\n",
        "# print(X_test_reduced.shape)\n",
        "\n",
        "\n",
        "from sklearn.preprocessing import StandardScaler\n",
        "sc = StandardScaler()\n",
        "X_train = sc.fit_transform(X_train_reduced)\n",
        "X_test = sc.transform(X_test_reduced)\n",
        "\n",
        "\n",
        "from sklearn.discriminant_analysis import LinearDiscriminantAnalysis as LDA\n",
        "lda = LDA()\n",
        "X_train = lda.fit_transform(X_train, y_train_new)\n",
        "X_test = lda.transform(X_test)\n",
        "\n",
        "\n",
        "from sklearn.linear_model import LogisticRegression\n",
        "\n",
        "lr = LogisticRegression()\n",
        "lr.fit(X_train, y_train_new)\n",
        "y_pred = lr.predict(X_test)\n",
        "# print(y_pred.shape)\n",
        "# print(y_test_new.shape)\n",
        "\n",
        "\n",
        "from sklearn.metrics import accuracy_score\n",
        "print(\"accuracy = {}\".format(accuracy_score(y_test_new, y_pred)))"
      ],
      "metadata": {
        "colab": {
          "base_uri": "https://localhost:8080/"
        },
        "id": "I6fy6xYTpNCY",
        "outputId": "e097f38a-34e0-4aee-b1fd-3eaeec724318"
      },
      "execution_count": null,
      "outputs": [
        {
          "output_type": "stream",
          "name": "stdout",
          "text": [
            "n = 8\n",
            "accuracy = 0.991016548463357\n"
          ]
        }
      ]
    },
    {
      "cell_type": "markdown",
      "source": [
        "n = 10"
      ],
      "metadata": {
        "id": "DhLp9vT8pYrO"
      }
    },
    {
      "cell_type": "code",
      "source": [
        "n = lst_components[4]\n",
        "print(\"n = {}\".format(n))\n",
        "\n",
        "X_train_reduced,_ = PCA(X_train_new, n)\n",
        "# print(X_train_reduced.shape)\n",
        "\n",
        "X_test_reduced,_ = PCA(X_test_new, n)\n",
        "# print(X_test_reduced.shape)\n",
        "\n",
        "\n",
        "from sklearn.preprocessing import StandardScaler\n",
        "sc = StandardScaler()\n",
        "X_train = sc.fit_transform(X_train_reduced)\n",
        "X_test = sc.transform(X_test_reduced)\n",
        "\n",
        "\n",
        "from sklearn.discriminant_analysis import LinearDiscriminantAnalysis as LDA\n",
        "lda = LDA()\n",
        "X_train = lda.fit_transform(X_train, y_train_new)\n",
        "X_test = lda.transform(X_test)\n",
        "\n",
        "\n",
        "from sklearn.linear_model import LogisticRegression\n",
        "\n",
        "lr = LogisticRegression()\n",
        "lr.fit(X_train, y_train_new)\n",
        "y_pred = lr.predict(X_test)\n",
        "# print(y_pred.shape)\n",
        "# print(y_test_new.shape)\n",
        "\n",
        "\n",
        "from sklearn.metrics import accuracy_score\n",
        "print(\"accuracy = {}\".format(accuracy_score(y_test_new, y_pred)))"
      ],
      "metadata": {
        "colab": {
          "base_uri": "https://localhost:8080/"
        },
        "id": "RWmVuXUFpM-8",
        "outputId": "0467a47a-7ae4-401a-961e-cb4aed3ba000"
      },
      "execution_count": null,
      "outputs": [
        {
          "output_type": "stream",
          "name": "stdout",
          "text": [
            "n = 10\n",
            "accuracy = 0.9929078014184397\n"
          ]
        }
      ]
    },
    {
      "cell_type": "markdown",
      "source": [
        "n = 15"
      ],
      "metadata": {
        "id": "D93B-zcypUWb"
      }
    },
    {
      "cell_type": "code",
      "source": [
        "n = lst_components[5]\n",
        "print(\"n = {}\".format(n))\n",
        "\n",
        "X_train_reduced,_ = PCA(X_train_new, n)\n",
        "# print(X_train_reduced.shape)\n",
        "\n",
        "X_test_reduced,_ = PCA(X_test_new, n)\n",
        "# print(X_test_reduced.shape)\n",
        "\n",
        "\n",
        "from sklearn.preprocessing import StandardScaler\n",
        "sc = StandardScaler()\n",
        "X_train = sc.fit_transform(X_train_reduced)\n",
        "X_test = sc.transform(X_test_reduced)\n",
        "\n",
        "\n",
        "from sklearn.discriminant_analysis import LinearDiscriminantAnalysis as LDA\n",
        "lda = LDA()\n",
        "X_train = lda.fit_transform(X_train, y_train_new)\n",
        "X_test = lda.transform(X_test)\n",
        "\n",
        "\n",
        "from sklearn.linear_model import LogisticRegression\n",
        "\n",
        "lr = LogisticRegression()\n",
        "lr.fit(X_train, y_train_new)\n",
        "y_pred = lr.predict(X_test)\n",
        "# print(y_pred.shape)\n",
        "# print(y_test_new.shape)\n",
        "\n",
        "\n",
        "from sklearn.metrics import accuracy_score\n",
        "print(\"accuracy = {}\".format(accuracy_score(y_test_new, y_pred)))"
      ],
      "metadata": {
        "colab": {
          "base_uri": "https://localhost:8080/"
        },
        "id": "rHC-VVhQpM8j",
        "outputId": "29693398-a129-455a-c191-b7b4d9ecd2f9"
      },
      "execution_count": null,
      "outputs": [
        {
          "output_type": "stream",
          "name": "stdout",
          "text": [
            "n = 15\n",
            "accuracy = 0.9905437352245863\n"
          ]
        }
      ]
    },
    {
      "cell_type": "code",
      "source": [],
      "metadata": {
        "id": "9NY490ZApM53"
      },
      "execution_count": null,
      "outputs": []
    }
  ]
}